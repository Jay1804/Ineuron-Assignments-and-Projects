{
  "nbformat": 4,
  "nbformat_minor": 0,
  "metadata": {
    "colab": {
      "name": "python assignment 3- Jay Ram Chaudhary",
      "provenance": []
    },
    "kernelspec": {
      "name": "python3",
      "display_name": "Python 3"
    }
  },
  "cells": [
    {
      "cell_type": "markdown",
      "metadata": {
        "id": "EbGc94l3xBDC"
      },
      "source": [
        "Problem Statement​ ​1:\r\n",
        "Write a Python Program to implement your own myreduce() function which works exactly\r\n",
        "like Python's built-in function reduce()\r\n",
        "\r\n",
        "\r\n",
        "Problem Statement​ ​2:\r\n",
        "Write a Python program to implement your own myfilter() function which works exactly\r\n",
        "like Python's built-in function filter()"
      ]
    },
    {
      "cell_type": "code",
      "metadata": {
        "colab": {
          "base_uri": "https://localhost:8080/"
        },
        "id": "0G7ioERwxCzR",
        "outputId": "4a4a6b4f-bd45-4462-d69c-07ef2cbe4e50"
      },
      "source": [
        "# Reduce will produce a single result\r\n",
        "def myreduce(anyfunc, sequence):\r\n",
        "\r\n",
        " # Get first item in sequence and assign to result\r\n",
        "  result = sequence[0]\r\n",
        " # iterate over remaining items in sequence and apply reduction function \r\n",
        "  for item in sequence[1:]:\r\n",
        "   result = anyfunc(result, item)\r\n",
        "\r\n",
        "  return result\r\n",
        "\r\n",
        "\r\n",
        "# Custom filter function \r\n",
        "def myfilter(anyfunc, sequence):\r\n",
        "\r\n",
        " # Initialize empty list\r\n",
        " result = []\r\n",
        " # iterate over sequence of items in sequence and apply filter function\r\n",
        " for item in sequence:\r\n",
        "  if anyfunc(item):\r\n",
        "   result.append(item)\r\n",
        "\r\n",
        " # return funal output\r\n",
        " return result\r\n",
        "\r\n",
        "\r\n",
        "# test myreduce function\r\n",
        "def sum(x,y): return x + y\r\n",
        "\r\n",
        "# test myfilter function\r\n",
        "def ispositive(x):\r\n",
        " if (x <= 0): \r\n",
        "  return False \r\n",
        " else: \r\n",
        "  return True\r\n",
        "\r\n",
        "\r\n",
        "print (\"Sum on list [1,2,3] using custom reduce function \"   + str(myreduce(sum, [1,2,3])) )\r\n",
        "print (\"Filter only positive Integers on list [0,1,-2,3,4,5] using custom filter function\"  + str(myfilter(ispositive, [0,1,-2,3,4,5])))"
      ],
      "execution_count": 1,
      "outputs": [
        {
          "output_type": "stream",
          "text": [
            "Sum on list [1,2,3] using custom reduce function 6\n",
            "Filter only positive Integers on list [0,1,-2,3,4,5] using custom filter function[1, 3, 4, 5]\n"
          ],
          "name": "stdout"
        }
      ]
    },
    {
      "cell_type": "markdown",
      "metadata": {
        "id": "aIcFUdHtxqwv"
      },
      "source": [
        "Problem_2. Implement List comprehensions to produce the following lists. Write List comprehensions to produce the following Lists ['A', 'C', 'A', 'D', 'G', 'I', ’L’, ‘ D’] ['x', 'xx', 'xxx', 'xxxx', 'y', 'yy', 'yyy', 'yyyy', 'z', 'zz', 'zzz', 'zzzz'] ['x', 'y', 'z', 'xx', 'yy', 'zz', 'xx', 'yy', 'zz', 'xxxx', 'yyyy', 'zzzz'] [[2], [3], [4], [3], [4], [5], [4], [5], [6]] [[2, 3, 4, 5], [3, 4, 5, 6], [4, 5, 6, 7], [5, 6, 7, 8]] [(1, 1), (2, 1), (3, 1), (1, 2), (2, 2), (3, 2), (1, 3), (2, 3), (3, 3)]"
      ]
    },
    {
      "cell_type": "code",
      "metadata": {
        "colab": {
          "base_uri": "https://localhost:8080/"
        },
        "id": "tHg9DRjwxrVs",
        "outputId": "ae69af11-27f3-4eb3-8cd1-6287d6c175d7"
      },
      "source": [
        "#Solution\r\n",
        "\r\n",
        "#Section 1\r\n",
        "word=\"AcadGild\"\r\n",
        "#list Comprehension\r\n",
        "output_list=[w.upper() for w in list(word)]\r\n",
        "print(\"Output:\")\r\n",
        "print(output_list)\r\n",
        "\r\n",
        "#Section 2\r\n",
        "word_1=list('xyz')\r\n",
        "word_2=[x*n for x in word_1 for n in range(1,5) ]\r\n",
        "print(word_2)\r\n",
        "\r\n",
        "#Section 3\r\n",
        "word_3=[x*n for n in range(1,5) for x in word_1 ]\r\n",
        "print(word_3)\r\n",
        "\r\n",
        "#Section 4\r\n",
        "number=[2,3,4]\r\n",
        "number_1=[[x+n] for x in number for n in range(0,3)]\r\n",
        "print(number_1)\r\n",
        "\r\n",
        "#Section 5\r\n",
        "number_2=[2,3,4,5]\r\n",
        "number_3=[[x+n for n in range(0,4)] for x in number_2 ]\r\n",
        "print(number_3)\r\n",
        "\r\n",
        "#Section 6\r\n",
        "number_4=[1,2,3]\r\n",
        "number_5= [(b,a) for a in number_4 for b in number_4]\r\n",
        "print(number_5)"
      ],
      "execution_count": 2,
      "outputs": [
        {
          "output_type": "stream",
          "text": [
            "Output:\n",
            "['A', 'C', 'A', 'D', 'G', 'I', 'L', 'D']\n",
            "['x', 'xx', 'xxx', 'xxxx', 'y', 'yy', 'yyy', 'yyyy', 'z', 'zz', 'zzz', 'zzzz']\n",
            "['x', 'y', 'z', 'xx', 'yy', 'zz', 'xxx', 'yyy', 'zzz', 'xxxx', 'yyyy', 'zzzz']\n",
            "[[2], [3], [4], [3], [4], [5], [4], [5], [6]]\n",
            "[[2, 3, 4, 5], [3, 4, 5, 6], [4, 5, 6, 7], [5, 6, 7, 8]]\n",
            "[(1, 1), (2, 1), (3, 1), (1, 2), (2, 2), (3, 2), (1, 3), (2, 3), (3, 3)]\n"
          ],
          "name": "stdout"
        }
      ]
    },
    {
      "cell_type": "code",
      "metadata": {
        "id": "_w6TLBAAyBYn"
      },
      "source": [
        ""
      ],
      "execution_count": null,
      "outputs": []
    }
  ]
}